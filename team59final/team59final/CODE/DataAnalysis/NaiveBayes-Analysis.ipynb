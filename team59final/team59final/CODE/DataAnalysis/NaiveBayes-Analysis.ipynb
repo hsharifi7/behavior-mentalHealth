{
 "cells": [
  {
   "cell_type": "code",
   "execution_count": 2,
   "metadata": {},
   "outputs": [],
   "source": [
    "import numpy as np\n",
    "import pandas as pd\n",
    "import time\n",
    "\n",
    "from sklearn import datasets \n",
    "from sklearn.metrics import confusion_matrix \n",
    "from sklearn.model_selection import train_test_split"
   ]
  },
  {
   "cell_type": "code",
   "execution_count": 3,
   "metadata": {},
   "outputs": [],
   "source": [
    "#data = pd.read_csv('dataConsolidatedClean.csv')\n",
    "data = pd.read_csv('dataConsolidatedCleanNoIFV.csv')\n",
    "\n",
    "\n",
    "# Separate out the x_data and y_data.\n",
    "X_data = data.loc[:, data.columns != \"mentalhealth\"]\n",
    "y_data = data.loc[:, \"mentalhealth\"]\n"
   ]
  },
  {
   "cell_type": "code",
   "execution_count": 4,
   "metadata": {},
   "outputs": [],
   "source": [
    "# The random state to use while splitting the data.\n",
    "random_state = 100\n",
    "# Split 70% of the data into training and 30% into test sets. \n",
    "X_train, X_test, y_train, y_test = train_test_split(X_data, y_data, train_size=0.70, test_size=0.30, random_state=100, shuffle=True)\n"
   ]
  },
  {
   "cell_type": "code",
   "execution_count": 5,
   "metadata": {},
   "outputs": [],
   "source": [
    "# training a Naive Bayes classifier \n",
    "from sklearn.naive_bayes import GaussianNB \n",
    "gnb = GaussianNB().fit(X_train, y_train) \n",
    "gnb_predictions = gnb.predict(X_test) \n",
    " "
   ]
  },
  {
   "cell_type": "code",
   "execution_count": 6,
   "metadata": {},
   "outputs": [
    {
     "name": "stdout",
     "output_type": "stream",
     "text": [
      "0.686123676662302\n"
     ]
    }
   ],
   "source": [
    "# accuracy on X_test \n",
    "accuracy = gnb.score(X_test, y_test) \n",
    "print (accuracy) \n",
    " "
   ]
  },
  {
   "cell_type": "code",
   "execution_count": 7,
   "metadata": {},
   "outputs": [
    {
     "data": {
      "text/plain": [
       "array([[954197,      0],\n",
       "       [436510,      0]])"
      ]
     },
     "execution_count": 7,
     "metadata": {},
     "output_type": "execute_result"
    }
   ],
   "source": [
    "# creating a confusion matrix \n",
    "cm = confusion_matrix(y_test, gnb_predictions) \n",
    "cm"
   ]
  },
  {
   "cell_type": "code",
   "execution_count": 11,
   "metadata": {},
   "outputs": [],
   "source": [
    "#removing some attributes\n",
    "#removing some attributes\n",
    "X_data = X_data.loc[:, X_data.columns != \"index\"]\n",
    "X_train = X_train.loc[:, X_train.columns != \"index\"]\n",
    "X_test = X_test.loc[:, X_test.columns != \"index\"]\n",
    "\n",
    "X_data = X_data.loc[:, X_data.columns != \"year\"]\n",
    "X_train = X_train.loc[:, X_train.columns != \"year\"]\n",
    "X_test = X_test.loc[:, X_test.columns != \"year\"]\n",
    "\n",
    "X_data = X_data.loc[:, X_data.columns != \"state\"]\n",
    "X_train = X_train.loc[:, X_train.columns != \"state\"]\n",
    "X_test = X_test.loc[:, X_test.columns != \"state\"]"
   ]
  },
  {
   "cell_type": "code",
   "execution_count": 12,
   "metadata": {},
   "outputs": [],
   "source": [
    "gnb = GaussianNB().fit(X_train, y_train) \n",
    "gnb_predictions = gnb.predict(X_test) "
   ]
  },
  {
   "cell_type": "code",
   "execution_count": 13,
   "metadata": {},
   "outputs": [
    {
     "name": "stdout",
     "output_type": "stream",
     "text": [
      "0.6613729563452259\n"
     ]
    }
   ],
   "source": [
    "# accuracy on X_test \n",
    "accuracy = gnb.score(X_test, y_test) \n",
    "print (accuracy) "
   ]
  },
  {
   "cell_type": "code",
   "execution_count": null,
   "metadata": {},
   "outputs": [],
   "source": []
  }
 ],
 "metadata": {
  "kernelspec": {
   "display_name": "Python 3",
   "language": "python",
   "name": "python3"
  },
  "language_info": {
   "codemirror_mode": {
    "name": "ipython",
    "version": 3
   },
   "file_extension": ".py",
   "mimetype": "text/x-python",
   "name": "python",
   "nbconvert_exporter": "python",
   "pygments_lexer": "ipython3",
   "version": "3.7.3"
  }
 },
 "nbformat": 4,
 "nbformat_minor": 2
}
