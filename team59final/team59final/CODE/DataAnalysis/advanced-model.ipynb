{
 "cells": [
  {
   "cell_type": "markdown",
   "metadata": {},
   "source": [
    "### Feature importance"
   ]
  },
  {
   "cell_type": "code",
   "execution_count": 1,
   "metadata": {},
   "outputs": [
    {
     "name": "stderr",
     "output_type": "stream",
     "text": [
      "Using TensorFlow backend.\n"
     ]
    }
   ],
   "source": [
    "import pandas as pd\n",
    "import numpy as np\n",
    "import matplotlib.pyplot as plt\n",
    "import seaborn as sns\n",
    "import sqlite3\n",
    "\n",
    "from sklearn.ensemble import RandomForestClassifier, GradientBoostingClassifier\n",
    "from sklearn.metrics import accuracy_score, confusion_matrix\n",
    "from sklearn.model_selection import train_test_split, GridSearchCV\n",
    "\n",
    "from sklearn.preprocessing import MinMaxScaler\n",
    "from sklearn.decomposition import PCA\n",
    "from keras.utils import to_categorical\n",
    "from keras.models import Sequential\n",
    "from keras.layers import Dense, Dropout\n",
    "from keras.callbacks import ModelCheckpoint  \n",
    "import h5py\n",
    "\n",
    "%matplotlib inline"
   ]
  },
  {
   "cell_type": "code",
   "execution_count": 2,
   "metadata": {},
   "outputs": [],
   "source": [
    "con = sqlite3.connect('brfss.sqlite')"
   ]
  },
  {
   "cell_type": "markdown",
   "metadata": {},
   "source": [
    "### Using 1 year data (2013)"
   ]
  },
  {
   "cell_type": "code",
   "execution_count": 71,
   "metadata": {},
   "outputs": [],
   "source": [
    "q = '''\n",
    "select MENTHLTH, GENHLTH, MARITAL, EDUCA, EMPLOY1 as employ, INCOME2, SEX, [x.RFSMOK3] as smoking, [x.RFBING5] as drinking, \n",
    "[x.TOTINDA] as pactivity, [x.RACEGR3] as race, [x.AGEG5YR] as age, HLTHPLN1 as hlthplan, [x.RFBMI5] as obese, [x.BMI5] as bmi,\n",
    "CHILDREN, PHYSHLTH\n",
    "from BRFSS_2013\n",
    "where (MENTHLTH between 1 and 30 or MENTHLTH=88)\n",
    "and (GENHLTH between 1 and 5)\n",
    "and (MARITAL between 1 and 6)\n",
    "and (EDUCA between 1 and 6)\n",
    "and (EMPLOY1 between 1 and 8)\n",
    "and (INCOME2 between 1 and 8)\n",
    "and (SEX between 1 and 2)\n",
    "and ([x.RFSMOK3] between 1 and 2)\n",
    "and ([x.RFBING5] between 1 and 2)\n",
    "and ([x.TOTINDA] between 1 and 2)\n",
    "and ([x.RACEGR3] between 1 and 5)\n",
    "and ([x.AGEG5YR] between 1 and 13)\n",
    "and (HLTHPLN1 between 1 and 2)\n",
    "and ([x.RFBMI5] between 1 and 2)\n",
    "and ([x.BMI5] between 1 and 9999)\n",
    "and (CHILDREN between 1 and 88)\n",
    "and (PHYSHLTH between 1 and 30 or PHYSHLTH=88)\n",
    "'''"
   ]
  },
  {
   "cell_type": "code",
   "execution_count": 72,
   "metadata": {},
   "outputs": [],
   "source": [
    "df = pd.read_sql(q, con)"
   ]
  },
  {
   "cell_type": "code",
   "execution_count": 73,
   "metadata": {},
   "outputs": [
    {
     "data": {
      "text/plain": [
       "(356311, 17)"
      ]
     },
     "execution_count": 73,
     "metadata": {},
     "output_type": "execute_result"
    }
   ],
   "source": [
    "df.shape"
   ]
  },
  {
   "cell_type": "code",
   "execution_count": 74,
   "metadata": {},
   "outputs": [
    {
     "data": {
      "text/html": [
       "<div>\n",
       "<style scoped>\n",
       "    .dataframe tbody tr th:only-of-type {\n",
       "        vertical-align: middle;\n",
       "    }\n",
       "\n",
       "    .dataframe tbody tr th {\n",
       "        vertical-align: top;\n",
       "    }\n",
       "\n",
       "    .dataframe thead th {\n",
       "        text-align: right;\n",
       "    }\n",
       "</style>\n",
       "<table border=\"1\" class=\"dataframe\">\n",
       "  <thead>\n",
       "    <tr style=\"text-align: right;\">\n",
       "      <th></th>\n",
       "      <th>menthlth</th>\n",
       "      <th>genhlth</th>\n",
       "      <th>marital</th>\n",
       "      <th>educa</th>\n",
       "      <th>employ</th>\n",
       "      <th>income2</th>\n",
       "      <th>sex</th>\n",
       "      <th>smoking</th>\n",
       "      <th>drinking</th>\n",
       "      <th>pactivity</th>\n",
       "      <th>race</th>\n",
       "      <th>age</th>\n",
       "      <th>hlthplan</th>\n",
       "      <th>obese</th>\n",
       "      <th>bmi</th>\n",
       "      <th>children</th>\n",
       "      <th>physhlth</th>\n",
       "    </tr>\n",
       "  </thead>\n",
       "  <tbody>\n",
       "    <tr>\n",
       "      <th>0</th>\n",
       "      <td>29</td>\n",
       "      <td>4</td>\n",
       "      <td>2</td>\n",
       "      <td>6</td>\n",
       "      <td>7</td>\n",
       "      <td>7</td>\n",
       "      <td>2</td>\n",
       "      <td>1</td>\n",
       "      <td>1</td>\n",
       "      <td>2</td>\n",
       "      <td>2</td>\n",
       "      <td>9</td>\n",
       "      <td>1</td>\n",
       "      <td>2</td>\n",
       "      <td>3916</td>\n",
       "      <td>88</td>\n",
       "      <td>30</td>\n",
       "    </tr>\n",
       "    <tr>\n",
       "      <th>1</th>\n",
       "      <td>88</td>\n",
       "      <td>3</td>\n",
       "      <td>1</td>\n",
       "      <td>5</td>\n",
       "      <td>1</td>\n",
       "      <td>8</td>\n",
       "      <td>2</td>\n",
       "      <td>1</td>\n",
       "      <td>1</td>\n",
       "      <td>1</td>\n",
       "      <td>1</td>\n",
       "      <td>7</td>\n",
       "      <td>1</td>\n",
       "      <td>1</td>\n",
       "      <td>1822</td>\n",
       "      <td>2</td>\n",
       "      <td>88</td>\n",
       "    </tr>\n",
       "    <tr>\n",
       "      <th>2</th>\n",
       "      <td>2</td>\n",
       "      <td>3</td>\n",
       "      <td>1</td>\n",
       "      <td>6</td>\n",
       "      <td>1</td>\n",
       "      <td>8</td>\n",
       "      <td>2</td>\n",
       "      <td>2</td>\n",
       "      <td>2</td>\n",
       "      <td>2</td>\n",
       "      <td>1</td>\n",
       "      <td>8</td>\n",
       "      <td>1</td>\n",
       "      <td>2</td>\n",
       "      <td>2746</td>\n",
       "      <td>88</td>\n",
       "      <td>3</td>\n",
       "    </tr>\n",
       "    <tr>\n",
       "      <th>3</th>\n",
       "      <td>88</td>\n",
       "      <td>2</td>\n",
       "      <td>1</td>\n",
       "      <td>4</td>\n",
       "      <td>7</td>\n",
       "      <td>7</td>\n",
       "      <td>2</td>\n",
       "      <td>1</td>\n",
       "      <td>1</td>\n",
       "      <td>1</td>\n",
       "      <td>1</td>\n",
       "      <td>9</td>\n",
       "      <td>1</td>\n",
       "      <td>1</td>\n",
       "      <td>2197</td>\n",
       "      <td>88</td>\n",
       "      <td>2</td>\n",
       "    </tr>\n",
       "    <tr>\n",
       "      <th>4</th>\n",
       "      <td>2</td>\n",
       "      <td>3</td>\n",
       "      <td>1</td>\n",
       "      <td>6</td>\n",
       "      <td>7</td>\n",
       "      <td>6</td>\n",
       "      <td>1</td>\n",
       "      <td>1</td>\n",
       "      <td>1</td>\n",
       "      <td>2</td>\n",
       "      <td>1</td>\n",
       "      <td>10</td>\n",
       "      <td>1</td>\n",
       "      <td>2</td>\n",
       "      <td>3594</td>\n",
       "      <td>88</td>\n",
       "      <td>10</td>\n",
       "    </tr>\n",
       "  </tbody>\n",
       "</table>\n",
       "</div>"
      ],
      "text/plain": [
       "   menthlth  genhlth  marital  educa  employ  income2  sex  smoking  drinking  \\\n",
       "0        29        4        2      6       7        7    2        1         1   \n",
       "1        88        3        1      5       1        8    2        1         1   \n",
       "2         2        3        1      6       1        8    2        2         2   \n",
       "3        88        2        1      4       7        7    2        1         1   \n",
       "4         2        3        1      6       7        6    1        1         1   \n",
       "\n",
       "   pactivity  race  age  hlthplan  obese   bmi  children  physhlth  \n",
       "0          2     2    9         1      2  3916        88        30  \n",
       "1          1     1    7         1      1  1822         2        88  \n",
       "2          2     1    8         1      2  2746        88         3  \n",
       "3          1     1    9         1      1  2197        88         2  \n",
       "4          2     1   10         1      2  3594        88        10  "
      ]
     },
     "execution_count": 74,
     "metadata": {},
     "output_type": "execute_result"
    }
   ],
   "source": [
    "df.head()"
   ]
  },
  {
   "cell_type": "code",
   "execution_count": 75,
   "metadata": {},
   "outputs": [],
   "source": [
    "df.menthlth = df.apply(lambda row: 0 if row.menthlth==88 else 1, axis=1)\n",
    "\n",
    "df.pactivity = df.apply(lambda row: 0 if row.pactivity==2 else 1, axis=1)\n",
    "df.sex = df.apply(lambda row: 0 if row.sex==2 else 1, axis=1)\n",
    "df.hlthplan = df.apply(lambda row: 0 if row.hlthplan==2 else 1, axis=1)\n",
    "\n",
    "df.smoking = df.apply(lambda row: 1 if row.smoking==2 else 0, axis=1)\n",
    "df.drinking = df.apply(lambda row: 1 if row.drinking==2 else 0, axis=1)\n",
    "df.obese = df.apply(lambda row: 1 if row.obese==2 else 0, axis=1)\n",
    "\n",
    "df.children = df.apply(lambda row: 0 if row.children==88 else row.children, axis=1)\n",
    "df.physhlth = df.apply(lambda row: 0 if row.physhlth==88 else row.physhlth, axis=1)"
   ]
  },
  {
   "cell_type": "code",
   "execution_count": 76,
   "metadata": {},
   "outputs": [],
   "source": [
    "cat_features = ['marital', 'employ', 'race']\n",
    "\n",
    "df = pd.get_dummies(df, columns=cat_features, drop_first=False)"
   ]
  },
  {
   "cell_type": "code",
   "execution_count": 77,
   "metadata": {},
   "outputs": [
    {
     "data": {
      "text/html": [
       "<div>\n",
       "<style scoped>\n",
       "    .dataframe tbody tr th:only-of-type {\n",
       "        vertical-align: middle;\n",
       "    }\n",
       "\n",
       "    .dataframe tbody tr th {\n",
       "        vertical-align: top;\n",
       "    }\n",
       "\n",
       "    .dataframe thead th {\n",
       "        text-align: right;\n",
       "    }\n",
       "</style>\n",
       "<table border=\"1\" class=\"dataframe\">\n",
       "  <thead>\n",
       "    <tr style=\"text-align: right;\">\n",
       "      <th></th>\n",
       "      <th>menthlth</th>\n",
       "      <th>genhlth</th>\n",
       "      <th>educa</th>\n",
       "      <th>income2</th>\n",
       "      <th>sex</th>\n",
       "      <th>smoking</th>\n",
       "      <th>drinking</th>\n",
       "      <th>pactivity</th>\n",
       "      <th>age</th>\n",
       "      <th>hlthplan</th>\n",
       "      <th>...</th>\n",
       "      <th>employ_4</th>\n",
       "      <th>employ_5</th>\n",
       "      <th>employ_6</th>\n",
       "      <th>employ_7</th>\n",
       "      <th>employ_8</th>\n",
       "      <th>race_1</th>\n",
       "      <th>race_2</th>\n",
       "      <th>race_3</th>\n",
       "      <th>race_4</th>\n",
       "      <th>race_5</th>\n",
       "    </tr>\n",
       "  </thead>\n",
       "  <tbody>\n",
       "    <tr>\n",
       "      <th>0</th>\n",
       "      <td>1</td>\n",
       "      <td>4</td>\n",
       "      <td>6</td>\n",
       "      <td>7</td>\n",
       "      <td>0</td>\n",
       "      <td>0</td>\n",
       "      <td>0</td>\n",
       "      <td>0</td>\n",
       "      <td>9</td>\n",
       "      <td>1</td>\n",
       "      <td>...</td>\n",
       "      <td>0</td>\n",
       "      <td>0</td>\n",
       "      <td>0</td>\n",
       "      <td>1</td>\n",
       "      <td>0</td>\n",
       "      <td>0</td>\n",
       "      <td>1</td>\n",
       "      <td>0</td>\n",
       "      <td>0</td>\n",
       "      <td>0</td>\n",
       "    </tr>\n",
       "    <tr>\n",
       "      <th>1</th>\n",
       "      <td>0</td>\n",
       "      <td>3</td>\n",
       "      <td>5</td>\n",
       "      <td>8</td>\n",
       "      <td>0</td>\n",
       "      <td>0</td>\n",
       "      <td>0</td>\n",
       "      <td>1</td>\n",
       "      <td>7</td>\n",
       "      <td>1</td>\n",
       "      <td>...</td>\n",
       "      <td>0</td>\n",
       "      <td>0</td>\n",
       "      <td>0</td>\n",
       "      <td>0</td>\n",
       "      <td>0</td>\n",
       "      <td>1</td>\n",
       "      <td>0</td>\n",
       "      <td>0</td>\n",
       "      <td>0</td>\n",
       "      <td>0</td>\n",
       "    </tr>\n",
       "    <tr>\n",
       "      <th>2</th>\n",
       "      <td>1</td>\n",
       "      <td>3</td>\n",
       "      <td>6</td>\n",
       "      <td>8</td>\n",
       "      <td>0</td>\n",
       "      <td>1</td>\n",
       "      <td>1</td>\n",
       "      <td>0</td>\n",
       "      <td>8</td>\n",
       "      <td>1</td>\n",
       "      <td>...</td>\n",
       "      <td>0</td>\n",
       "      <td>0</td>\n",
       "      <td>0</td>\n",
       "      <td>0</td>\n",
       "      <td>0</td>\n",
       "      <td>1</td>\n",
       "      <td>0</td>\n",
       "      <td>0</td>\n",
       "      <td>0</td>\n",
       "      <td>0</td>\n",
       "    </tr>\n",
       "    <tr>\n",
       "      <th>3</th>\n",
       "      <td>0</td>\n",
       "      <td>2</td>\n",
       "      <td>4</td>\n",
       "      <td>7</td>\n",
       "      <td>0</td>\n",
       "      <td>0</td>\n",
       "      <td>0</td>\n",
       "      <td>1</td>\n",
       "      <td>9</td>\n",
       "      <td>1</td>\n",
       "      <td>...</td>\n",
       "      <td>0</td>\n",
       "      <td>0</td>\n",
       "      <td>0</td>\n",
       "      <td>1</td>\n",
       "      <td>0</td>\n",
       "      <td>1</td>\n",
       "      <td>0</td>\n",
       "      <td>0</td>\n",
       "      <td>0</td>\n",
       "      <td>0</td>\n",
       "    </tr>\n",
       "    <tr>\n",
       "      <th>4</th>\n",
       "      <td>1</td>\n",
       "      <td>3</td>\n",
       "      <td>6</td>\n",
       "      <td>6</td>\n",
       "      <td>1</td>\n",
       "      <td>0</td>\n",
       "      <td>0</td>\n",
       "      <td>0</td>\n",
       "      <td>10</td>\n",
       "      <td>1</td>\n",
       "      <td>...</td>\n",
       "      <td>0</td>\n",
       "      <td>0</td>\n",
       "      <td>0</td>\n",
       "      <td>1</td>\n",
       "      <td>0</td>\n",
       "      <td>1</td>\n",
       "      <td>0</td>\n",
       "      <td>0</td>\n",
       "      <td>0</td>\n",
       "      <td>0</td>\n",
       "    </tr>\n",
       "  </tbody>\n",
       "</table>\n",
       "<p>5 rows × 33 columns</p>\n",
       "</div>"
      ],
      "text/plain": [
       "   menthlth  genhlth  educa  income2  sex  smoking  drinking  pactivity  age  \\\n",
       "0         1        4      6        7    0        0         0          0    9   \n",
       "1         0        3      5        8    0        0         0          1    7   \n",
       "2         1        3      6        8    0        1         1          0    8   \n",
       "3         0        2      4        7    0        0         0          1    9   \n",
       "4         1        3      6        6    1        0         0          0   10   \n",
       "\n",
       "   hlthplan  ...  employ_4  employ_5  employ_6  employ_7  employ_8  race_1  \\\n",
       "0         1  ...         0         0         0         1         0       0   \n",
       "1         1  ...         0         0         0         0         0       1   \n",
       "2         1  ...         0         0         0         0         0       1   \n",
       "3         1  ...         0         0         0         1         0       1   \n",
       "4         1  ...         0         0         0         1         0       1   \n",
       "\n",
       "   race_2  race_3  race_4  race_5  \n",
       "0       1       0       0       0  \n",
       "1       0       0       0       0  \n",
       "2       0       0       0       0  \n",
       "3       0       0       0       0  \n",
       "4       0       0       0       0  \n",
       "\n",
       "[5 rows x 33 columns]"
      ]
     },
     "execution_count": 77,
     "metadata": {},
     "output_type": "execute_result"
    }
   ],
   "source": [
    "df.head()"
   ]
  },
  {
   "cell_type": "code",
   "execution_count": 78,
   "metadata": {},
   "outputs": [
    {
     "name": "stdout",
     "output_type": "stream",
     "text": [
      "(356311, 32) (356311,)\n"
     ]
    }
   ],
   "source": [
    "y = df.menthlth\n",
    "x = df[df.columns[1:]]\n",
    "print(x.shape, y.shape)"
   ]
  },
  {
   "cell_type": "code",
   "execution_count": 79,
   "metadata": {},
   "outputs": [
    {
     "data": {
      "text/plain": [
       "<matplotlib.axes._subplots.AxesSubplot at 0x7f041452aa20>"
      ]
     },
     "execution_count": 79,
     "metadata": {},
     "output_type": "execute_result"
    },
    {
     "data": {
      "image/png": "[encoded data removed]",
      "text/plain": [
       "<Figure size 864x864 with 2 Axes>"
      ]
     },
     "metadata": {
      "needs_background": "light"
     },
     "output_type": "display_data"
    }
   ],
   "source": [
    "plt.figure(figsize=(12,12))\n",
    "sns.heatmap(x.corr(), square=True, annot=False, linewidths=0.01, cmap='Blues')"
   ]
  },
  {
   "cell_type": "code",
   "execution_count": 80,
   "metadata": {},
   "outputs": [
    {
     "data": {
      "text/plain": [
       "RandomForestClassifier(bootstrap=True, class_weight=None, criterion='gini',\n",
       "            max_depth=15, max_features='auto', max_leaf_nodes=None,\n",
       "            min_impurity_decrease=0.0, min_impurity_split=None,\n",
       "            min_samples_leaf=1, min_samples_split=2,\n",
       "            min_weight_fraction_leaf=0.0, n_estimators=250, n_jobs=-1,\n",
       "            oob_score=False, random_state=1, verbose=0, warm_start=False)"
      ]
     },
     "execution_count": 80,
     "metadata": {},
     "output_type": "execute_result"
    }
   ],
   "source": [
    "x_train, x_test, y_train, y_test = train_test_split(x, y, test_size=0.20, random_state=1, shuffle=True)\n",
    "model = RandomForestClassifier(n_estimators=250, random_state=1, n_jobs=-1, max_depth=15)\n",
    "model.fit(x_train, y_train)"
   ]
  },
  {
   "cell_type": "code",
   "execution_count": 81,
   "metadata": {},
   "outputs": [
    {
     "data": {
      "text/plain": [
       "0.7304632137294248"
      ]
     },
     "execution_count": 81,
     "metadata": {},
     "output_type": "execute_result"
    }
   ],
   "source": [
    "pred = model.predict(x_test)\n",
    "accuracy_score(y_test, pred)"
   ]
  },
  {
   "cell_type": "code",
   "execution_count": 82,
   "metadata": {},
   "outputs": [
    {
     "data": {
      "image/png": "[encoded data removed]",
      "text/plain": [
       "<Figure size 720x864 with 1 Axes>"
      ]
     },
     "metadata": {
      "needs_background": "light"
     },
     "output_type": "display_data"
    }
   ],
   "source": [
    "alphas = np.linspace(0.95, 0.15, 32)\n",
    "rgba_colors = np.zeros((32, 4))\n",
    "# for red the first column needs to be one\n",
    "rgba_colors[:, 2] = 0.8\n",
    "rgba_colors[:, 1] = 0.\n",
    "rgba_colors[:, 0] = 0.8\n",
    "# the fourth column needs to be your alphas\n",
    "rgba_colors[:, 3] = alphas\n",
    "\n",
    "plt.figure(figsize=(10, 12))\n",
    "pd.Series(model.feature_importances_, index=x.columns).nlargest(32).plot(kind='barh', color=rgba_colors)\n",
    "plt.gca().invert_yaxis()"
   ]
  },
  {
   "cell_type": "code",
   "execution_count": 83,
   "metadata": {},
   "outputs": [
    {
     "data": {
      "text/plain": [
       "GradientBoostingClassifier(criterion='friedman_mse', init=None,\n",
       "              learning_rate=0.1, loss='deviance', max_depth=3,\n",
       "              max_features=None, max_leaf_nodes=None,\n",
       "              min_impurity_decrease=0.0, min_impurity_split=None,\n",
       "              min_samples_leaf=1, min_samples_split=2,\n",
       "              min_weight_fraction_leaf=0.0, n_estimators=300,\n",
       "              n_iter_no_change=10, presort='auto', random_state=1,\n",
       "              subsample=1.0, tol=0.0001, validation_fraction=0.1,\n",
       "              verbose=0, warm_start=False)"
      ]
     },
     "execution_count": 83,
     "metadata": {},
     "output_type": "execute_result"
    }
   ],
   "source": [
    "model = GradientBoostingClassifier(random_state=1, n_estimators=300, n_iter_no_change=10)\n",
    "model.fit(x_train, y_train)"
   ]
  },
  {
   "cell_type": "code",
   "execution_count": 84,
   "metadata": {},
   "outputs": [
    {
     "data": {
      "text/plain": [
       "0.7320067917432609"
      ]
     },
     "execution_count": 84,
     "metadata": {},
     "output_type": "execute_result"
    }
   ],
   "source": [
    "pred = model.predict(x_test)\n",
    "accuracy_score(y_test, pred)"
   ]
  },
  {
   "cell_type": "code",
   "execution_count": 85,
   "metadata": {},
   "outputs": [
    {
     "data": {
      "image/png": "[encoded data removed]",
      "text/plain": [
       "<Figure size 720x864 with 1 Axes>"
      ]
     },
     "metadata": {
      "needs_background": "light"
     },
     "output_type": "display_data"
    }
   ],
   "source": [
    "alphas = np.linspace(0.95, 0.15, 32)\n",
    "rgba_colors = np.zeros((32, 4))\n",
    "# for red the first column needs to be one\n",
    "rgba_colors[:, 2] = 0.8\n",
    "rgba_colors[:, 1] = 0.\n",
    "rgba_colors[:, 0] = 0.8\n",
    "# the fourth column needs to be your alphas\n",
    "rgba_colors[:, 3] = alphas\n",
    "\n",
    "plt.figure(figsize=(10, 12))\n",
    "pd.Series(model.feature_importances_, index=x.columns).nlargest(32).plot(kind='barh', color=rgba_colors)\n",
    "plt.gca().invert_yaxis()"
   ]
  },
  {
   "cell_type": "markdown",
   "metadata": {},
   "source": [
    "### Using 11 years data"
   ]
  },
  {
   "cell_type": "code",
   "execution_count": 3,
   "metadata": {},
   "outputs": [],
   "source": [
    "tables = [\n",
    "    'BRFSS_2007',\n",
    "    'BRFSS_2008',\n",
    "    'BRFSS_2009',\n",
    "    'BRFSS_2010',\n",
    "    'BRFSS_2011',\n",
    "    'BRFSS_2012',\n",
    "    'BRFSS_2013',\n",
    "    'BRFSS_2014',\n",
    "    'BRFSS_2015',\n",
    "    'BRFSS_2016',\n",
    "    'BRFSS_2017'\n",
    "]\n",
    "\n",
    "dfs = {}\n",
    "\n",
    "for table in tables[6:]:\n",
    "    \n",
    "    q = '''\n",
    "        select MENTHLTH, GENHLTH, MARITAL, EDUCA, EMPLOY1 as employ, INCOME2, SEX, [x.RFSMOK3] as smoking, \n",
    "        [x.RFBING5] as drinking, [x.TOTINDA] as pactivity, [x.RACEGR3] as race, [x.AGEG5YR] as age, \n",
    "        HLTHPLN1 as hlthplan, [x.RFBMI5] as obese, [x.BMI5] as bmi, CHILDREN, PHYSHLTH\n",
    "        from {}\n",
    "        where (MENTHLTH between 1 and 30 or MENTHLTH=88)\n",
    "        and (GENHLTH between 1 and 5)\n",
    "        and (MARITAL between 1 and 6)\n",
    "        and (EDUCA between 1 and 6)\n",
    "        and (EMPLOY1 between 1 and 8)\n",
    "        and (INCOME2 between 1 and 8)\n",
    "        and (SEX between 1 and 2)\n",
    "        and ([x.RFSMOK3] between 1 and 2)\n",
    "        and ([x.RFBING5] between 1 and 2)\n",
    "        and ([x.TOTINDA] between 1 and 2)\n",
    "        and ([x.RACEGR3] between 1 and 5)\n",
    "        and ([x.AGEG5YR] between 1 and 13)\n",
    "        and (HLTHPLN1 between 1 and 2)\n",
    "        and ([x.RFBMI5] between 1 and 2)\n",
    "        and ([x.BMI5] between 1 and 9999)\n",
    "        and (CHILDREN between 1 and 88)\n",
    "        and (PHYSHLTH between 1 and 30 or PHYSHLTH=88)\n",
    "        '''.format(table)\n",
    "    \n",
    "    df = pd.read_sql(q, con)\n",
    "    dfs[table] = df\n",
    "    \n",
    "for table in tables[4:6]:\n",
    "    \n",
    "    q = '''\n",
    "        select MENTHLTH, GENHLTH, MARITAL, EDUCA, EMPLOY, INCOME2, SEX, [x.RFSMOK3] as smoking, \n",
    "        [x.RFBING5] as drinking, [x.TOTINDA] as pactivity, [x.RACEGR2] as race, [x.AGEG5YR] as age, \n",
    "        HLTHPLN1 as hlthplan, [x.RFBMI5] as obese, [x.BMI5] as bmi, CHILDREN, PHYSHLTH\n",
    "        from {}\n",
    "        where (MENTHLTH between 1 and 30 or MENTHLTH=88)\n",
    "        and (GENHLTH between 1 and 5)\n",
    "        and (MARITAL between 1 and 6)\n",
    "        and (EDUCA between 1 and 6)\n",
    "        and (EMPLOY between 1 and 8)\n",
    "        and (INCOME2 between 1 and 8)\n",
    "        and (SEX between 1 and 2)\n",
    "        and ([x.RFSMOK3] between 1 and 2)\n",
    "        and ([x.RFBING5] between 1 and 2)\n",
    "        and ([x.TOTINDA] between 1 and 2)\n",
    "        and ([x.RACEGR2] between 1 and 5)\n",
    "        and ([x.AGEG5YR] between 1 and 13)\n",
    "        and (HLTHPLN1 between 1 and 2)\n",
    "        and ([x.RFBMI5] between 1 and 2)\n",
    "        and ([x.BMI5] between 1 and 9999)\n",
    "        and (CHILDREN between 1 and 88)\n",
    "        and (PHYSHLTH between 1 and 30 or PHYSHLTH=88)\n",
    "        '''.format(table)\n",
    "\n",
    "    df = pd.read_sql(q, con)\n",
    "    dfs[table] = df\n",
    "    \n",
    "for table in tables[:4]:\n",
    "    \n",
    "    q = '''\n",
    "        select MENTHLTH, GENHLTH, MARITAL, EDUCA, EMPLOY, INCOME2, SEX, [x.RFSMOK3] as smoking, \n",
    "        [x.RFBING4] as drinking, [x.TOTINDA] as pactivity, [x.RACEGR2] as race, [x.AGEG5YR] as age, \n",
    "        HLTHPLAN as hlthplan, [x.RFBMI4] as obese, [x.BMI4] as bmi, CHILDREN, PHYSHLTH\n",
    "        from {}\n",
    "        where (MENTHLTH between 1 and 30 or MENTHLTH=88)\n",
    "        and (GENHLTH between 1 and 5)\n",
    "        and (MARITAL between 1 and 6)\n",
    "        and (EDUCA between 1 and 6)\n",
    "        and (EMPLOY between 1 and 8)\n",
    "        and (INCOME2 between 1 and 8)\n",
    "        and (SEX between 1 and 2)\n",
    "        and ([x.RFSMOK3] between 1 and 2)\n",
    "        and ([x.RFBING4] between 1 and 2)\n",
    "        and ([x.TOTINDA] between 1 and 2)\n",
    "        and ([x.RACEGR2] between 1 and 5)\n",
    "        and ([x.AGEG5YR] between 1 and 13)\n",
    "        and (HLTHPLAN between 1 and 2)\n",
    "        and ([x.RFBMI4] between 1 and 2)\n",
    "        and ([x.BMI4] between 1 and 9998)\n",
    "        and (CHILDREN between 1 and 88)\n",
    "        and (PHYSHLTH between 1 and 30 or PHYSHLTH=88)\n",
    "        '''.format(table)\n",
    "\n",
    "    df = pd.read_sql(q, con)\n",
    "    dfs[table] = df\n",
    "    \n",
    "    "
   ]
  },
  {
   "cell_type": "code",
   "execution_count": 4,
   "metadata": {},
   "outputs": [],
   "source": [
    "data = pd.DataFrame()\n",
    "\n",
    "for table in tables:\n",
    "    df = dfs[table]\n",
    "    data = pd.concat([data, df], ignore_index=True)"
   ]
  },
  {
   "cell_type": "code",
   "execution_count": 5,
   "metadata": {},
   "outputs": [
    {
     "data": {
      "text/plain": [
       "(3754830, 17)"
      ]
     },
     "execution_count": 5,
     "metadata": {},
     "output_type": "execute_result"
    }
   ],
   "source": [
    "data.shape"
   ]
  },
  {
   "cell_type": "code",
   "execution_count": 6,
   "metadata": {},
   "outputs": [],
   "source": [
    "def preprocess(df):\n",
    "\n",
    "    df.menthlth = df.apply(lambda row: 0 if row.menthlth==88 else 1, axis=1)\n",
    "\n",
    "    df.pactivity = df.apply(lambda row: 0 if row.pactivity==2 else 1, axis=1)\n",
    "    df.sex = df.apply(lambda row: 0 if row.sex==2 else 1, axis=1)\n",
    "    df.hlthplan = df.apply(lambda row: 0 if row.hlthplan==2 else 1, axis=1)\n",
    "\n",
    "    df.smoking = df.apply(lambda row: 1 if row.smoking==2 else 0, axis=1)\n",
    "    df.drinking = df.apply(lambda row: 1 if row.drinking==2 else 0, axis=1)\n",
    "    df.obese = df.apply(lambda row: 1 if row.obese==2 else 0, axis=1)\n",
    "\n",
    "    df.children = df.apply(lambda row: 0 if row.children==88 else row.children, axis=1)\n",
    "    df.physhlth = df.apply(lambda row: 0 if row.physhlth==88 else row.physhlth, axis=1)\n",
    "\n",
    "    cat_features = ['marital', 'employ', 'race']\n",
    "\n",
    "    df = pd.get_dummies(df, columns=cat_features, drop_first=False)\n",
    "    \n",
    "    return df"
   ]
  },
  {
   "cell_type": "code",
   "execution_count": 7,
   "metadata": {},
   "outputs": [],
   "source": [
    "data = preprocess(data)"
   ]
  },
  {
   "cell_type": "code",
   "execution_count": 8,
   "metadata": {},
   "outputs": [
    {
     "name": "stdout",
     "output_type": "stream",
     "text": [
      "(3754830, 32) (3754830,)\n"
     ]
    }
   ],
   "source": [
    "y = data.menthlth\n",
    "x = data[data.columns[1:]]\n",
    "print(x.shape, y.shape) "
   ]
  },
  {
   "cell_type": "markdown",
   "metadata": {},
   "source": [
    "### Use historical data (2007 ~ 2016) to predict future (2017)"
   ]
  },
  {
   "cell_type": "code",
   "execution_count": 9,
   "metadata": {},
   "outputs": [
    {
     "data": {
      "text/plain": [
       "(315405, 17)"
      ]
     },
     "execution_count": 9,
     "metadata": {},
     "output_type": "execute_result"
    }
   ],
   "source": [
    "dfs['BRFSS_2017'].shape"
   ]
  },
  {
   "cell_type": "code",
   "execution_count": 10,
   "metadata": {},
   "outputs": [
    {
     "name": "stdout",
     "output_type": "stream",
     "text": [
      "(3439425, 32) (315405, 32) (3439425,) (315405,)\n"
     ]
    }
   ],
   "source": [
    "x_test = x.iloc[-315405:,]\n",
    "y_test = y[-315405:]\n",
    "x_train = x.iloc[:3439425,]\n",
    "y_train = y[:3439425]\n",
    "print(x_train.shape, x_test.shape, y_train.shape, y_test.shape)"
   ]
  },
  {
   "cell_type": "code",
   "execution_count": 94,
   "metadata": {},
   "outputs": [],
   "source": [
    "model = RandomForestClassifier(n_estimators=250, random_state=1, n_jobs=-1, max_depth=15)"
   ]
  },
  {
   "cell_type": "code",
   "execution_count": 95,
   "metadata": {},
   "outputs": [
    {
     "name": "stdout",
     "output_type": "stream",
     "text": [
      "CPU times: user 32min 2s, sys: 8.3 s, total: 32min 10s\n",
      "Wall time: 32min 10s\n"
     ]
    },
    {
     "data": {
      "text/plain": [
       "RandomForestClassifier(bootstrap=True, class_weight=None, criterion='gini',\n",
       "            max_depth=15, max_features='auto', max_leaf_nodes=None,\n",
       "            min_impurity_decrease=0.0, min_impurity_split=None,\n",
       "            min_samples_leaf=1, min_samples_split=2,\n",
       "            min_weight_fraction_leaf=0.0, n_estimators=250, n_jobs=-1,\n",
       "            oob_score=False, random_state=1, verbose=0, warm_start=False)"
      ]
     },
     "execution_count": 95,
     "metadata": {},
     "output_type": "execute_result"
    }
   ],
   "source": [
    "%%time\n",
    "\n",
    "model.fit(x_train, y_train)"
   ]
  },
  {
   "cell_type": "code",
   "execution_count": 96,
   "metadata": {},
   "outputs": [],
   "source": [
    "pred = model.predict(x_test)"
   ]
  },
  {
   "cell_type": "code",
   "execution_count": 97,
   "metadata": {},
   "outputs": [
    {
     "data": {
      "text/plain": [
       "0.7244653699212124"
      ]
     },
     "execution_count": 97,
     "metadata": {},
     "output_type": "execute_result"
    }
   ],
   "source": [
    "accuracy_score(y_test, pred)"
   ]
  },
  {
   "cell_type": "code",
   "execution_count": 98,
   "metadata": {},
   "outputs": [
    {
     "data": {
      "image/png": "[encoded data removed]",
      "text/plain": [
       "<Figure size 360x360 with 1 Axes>"
      ]
     },
     "metadata": {
      "needs_background": "light"
     },
     "output_type": "display_data"
    }
   ],
   "source": [
    "alphas = np.linspace(0.95, 0.15, 32)\n",
    "rgba_colors = np.zeros((32, 4))\n",
    "# for red the first column needs to be one\n",
    "rgba_colors[:, 2] = 0.8\n",
    "rgba_colors[:, 1] = 0.\n",
    "rgba_colors[:, 0] = 0.8\n",
    "# the fourth column needs to be your alphas\n",
    "rgba_colors[:, 3] = alphas\n",
    "\n",
    "plt.figure(figsize=(5, 5))\n",
    "pd.Series(model.feature_importances_, index=x.columns).nlargest(32).plot(kind='barh', color=rgba_colors)\n",
    "plt.gca().invert_yaxis()\n",
    "\n",
    "plt.ylabel('Features used in the analysis')\n",
    "plt.xlabel('Feature importance score')\n",
    "\n",
    "plt.savefig('featureImportance2.pdf')"
   ]
  },
  {
   "cell_type": "code",
   "execution_count": 31,
   "metadata": {},
   "outputs": [],
   "source": [
    "model = GradientBoostingClassifier(random_state=1, n_estimators=300, n_iter_no_change=10)"
   ]
  },
  {
   "cell_type": "code",
   "execution_count": 32,
   "metadata": {},
   "outputs": [
    {
     "name": "stdout",
     "output_type": "stream",
     "text": [
      "CPU times: user 25min 35s, sys: 0 ns, total: 25min 35s\n",
      "Wall time: 25min 35s\n"
     ]
    },
    {
     "data": {
      "text/plain": [
       "GradientBoostingClassifier(criterion='friedman_mse', init=None,\n",
       "              learning_rate=0.1, loss='deviance', max_depth=3,\n",
       "              max_features=None, max_leaf_nodes=None,\n",
       "              min_impurity_decrease=0.0, min_impurity_split=None,\n",
       "              min_samples_leaf=1, min_samples_split=2,\n",
       "              min_weight_fraction_leaf=0.0, n_estimators=300,\n",
       "              n_iter_no_change=10, presort='auto', random_state=1,\n",
       "              subsample=1.0, tol=0.0001, validation_fraction=0.1,\n",
       "              verbose=0, warm_start=False)"
      ]
     },
     "execution_count": 32,
     "metadata": {},
     "output_type": "execute_result"
    }
   ],
   "source": [
    "%%time\n",
    "\n",
    "model.fit(x_train, y_train)"
   ]
  },
  {
   "cell_type": "code",
   "execution_count": 33,
   "metadata": {},
   "outputs": [],
   "source": [
    "pred = model.predict(x_test)"
   ]
  },
  {
   "cell_type": "code",
   "execution_count": 34,
   "metadata": {},
   "outputs": [
    {
     "data": {
      "text/plain": [
       "0.7270747134636419"
      ]
     },
     "execution_count": 34,
     "metadata": {},
     "output_type": "execute_result"
    }
   ],
   "source": [
    "accuracy_score(y_test, pred)"
   ]
  },
  {
   "cell_type": "code",
   "execution_count": 35,
   "metadata": {},
   "outputs": [
    {
     "data": {
      "image/png": "[encoded data removed]",
      "text/plain": [
       "<Figure size 360x360 with 1 Axes>"
      ]
     },
     "metadata": {
      "needs_background": "light"
     },
     "output_type": "display_data"
    }
   ],
   "source": [
    "alphas = np.linspace(0.95, 0.15, 32)\n",
    "rgba_colors = np.zeros((32, 4))\n",
    "# for red the first column needs to be one\n",
    "rgba_colors[:, 2] = 0.8\n",
    "rgba_colors[:, 1] = 0.\n",
    "rgba_colors[:, 0] = 0.8\n",
    "# the fourth column needs to be your alphas\n",
    "rgba_colors[:, 3] = alphas\n",
    "\n",
    "plt.figure(figsize=(5, 5))\n",
    "pd.Series(model.feature_importances_, index=x.columns).nlargest(32).plot(kind='barh', color=rgba_colors)\n",
    "plt.gca().invert_yaxis()\n",
    "\n",
    "plt.ylabel('Features used in the analysis')\n",
    "plt.xlabel('Feature importance score')\n",
    "\n",
    "plt.savefig('featureImportance2.pdf', bbox_inches='tight')"
   ]
  },
  {
   "cell_type": "markdown",
   "metadata": {},
   "source": [
    "### Taking logarithm on skewed feature (BMI), MinMax Scaling, PCA, Keras"
   ]
  },
  {
   "cell_type": "code",
   "execution_count": 11,
   "metadata": {},
   "outputs": [
    {
     "name": "stdout",
     "output_type": "stream",
     "text": [
      "(3439425, 32) (315405, 32) (3439425,) (315405,)\n"
     ]
    }
   ],
   "source": [
    "x_test = x.iloc[-315405:,]\n",
    "y_test = y[-315405:]\n",
    "x_train = x.iloc[:3439425,]\n",
    "y_train = y[:3439425]\n",
    "print(x_train.shape, x_test.shape, y_train.shape, y_test.shape)"
   ]
  },
  {
   "cell_type": "code",
   "execution_count": 12,
   "metadata": {},
   "outputs": [
    {
     "data": {
      "text/plain": [
       "count    3.754830e+06\n",
       "mean     2.795017e+03\n",
       "std      6.128758e+02\n",
       "min      6.430000e+02\n",
       "25%      2.378000e+03\n",
       "50%      2.695000e+03\n",
       "75%      3.090000e+03\n",
       "max      9.998000e+03\n",
       "Name: bmi, dtype: float64"
      ]
     },
     "execution_count": 12,
     "metadata": {},
     "output_type": "execute_result"
    }
   ],
   "source": [
    "x.bmi.describe()"
   ]
  },
  {
   "cell_type": "code",
   "execution_count": 13,
   "metadata": {},
   "outputs": [
    {
     "name": "stderr",
     "output_type": "stream",
     "text": [
      "/home/hadi/anaconda3/lib/python3.7/site-packages/pandas/core/indexing.py:543: SettingWithCopyWarning: \n",
      "A value is trying to be set on a copy of a slice from a DataFrame.\n",
      "Try using .loc[row_indexer,col_indexer] = value instead\n",
      "\n",
      "See the caveats in the documentation: http://pandas.pydata.org/pandas-docs/stable/indexing.html#indexing-view-versus-copy\n",
      "  self.obj[item] = s\n"
     ]
    }
   ],
   "source": [
    "x_train.loc[:,'bmi'] = np.log(x_train.loc[:,'bmi'])\n",
    "x_test.loc[:,'bmi'] = np.log(x_test.loc[:,'bmi'])"
   ]
  },
  {
   "cell_type": "code",
   "execution_count": 14,
   "metadata": {},
   "outputs": [
    {
     "name": "stderr",
     "output_type": "stream",
     "text": [
      "/home/hadi/anaconda3/lib/python3.7/site-packages/sklearn/preprocessing/data.py:334: DataConversionWarning: Data with input dtype uint8, int64, float64 were all converted to float64 by MinMaxScaler.\n",
      "  return self.partial_fit(X, y)\n"
     ]
    }
   ],
   "source": [
    "scaler = MinMaxScaler()\n",
    "x_train = scaler.fit_transform(x_train)\n",
    "x_test = scaler.transform(x_test)"
   ]
  },
  {
   "cell_type": "code",
   "execution_count": 15,
   "metadata": {},
   "outputs": [],
   "source": [
    "# print cumulated explained_variance_ratio\n",
    "\n",
    "def print_var(pca):\n",
    "    print(np.cumsum(np.round(pca.explained_variance_ratio_, decimals=4)*100))"
   ]
  },
  {
   "cell_type": "code",
   "execution_count": 17,
   "metadata": {},
   "outputs": [
    {
     "name": "stdout",
     "output_type": "stream",
     "text": [
      "[14.86 26.56 35.66 43.34 50.06 56.41 61.62 66.14 70.23 73.83 77.12 80.21\n",
      " 83.01 85.31 87.42 89.18 90.72 92.18 93.35 94.45 95.43 96.32 97.14 97.91]\n"
     ]
    }
   ],
   "source": [
    "pca = PCA(n_components=24, random_state=1)\n",
    "x_train_pca = pca.fit_transform(x_train)\n",
    "print_var(pca)"
   ]
  },
  {
   "cell_type": "code",
   "execution_count": 18,
   "metadata": {},
   "outputs": [],
   "source": [
    "x_test_pca = pca.transform(x_test)"
   ]
  },
  {
   "cell_type": "code",
   "execution_count": 19,
   "metadata": {},
   "outputs": [
    {
     "name": "stdout",
     "output_type": "stream",
     "text": [
      "2751540 Train samples\n",
      "687885 Validation samples\n",
      "315405 Test samples\n"
     ]
    }
   ],
   "source": [
    "# break training set into training and validation sets\n",
    "x_train_mlp, x_valid_mlp, y_train_mlp, y_valid_mlp = train_test_split(x_train_pca, y_train, test_size=0.2, random_state=1)\n",
    "\n",
    "# print number of training, validation, and test samples\n",
    "print(x_train_mlp.shape[0], 'Train samples')\n",
    "print(x_valid_mlp.shape[0], 'Validation samples')\n",
    "print(x_test_pca.shape[0], 'Test samples')"
   ]
  },
  {
   "cell_type": "code",
   "execution_count": 20,
   "metadata": {},
   "outputs": [
    {
     "name": "stdout",
     "output_type": "stream",
     "text": [
      "WARNING:tensorflow:From /home/hadi/anaconda3/lib/python3.7/site-packages/tensorflow/python/framework/op_def_library.py:263: colocate_with (from tensorflow.python.framework.ops) is deprecated and will be removed in a future version.\n",
      "Instructions for updating:\n",
      "Colocations handled automatically by placer.\n",
      "_________________________________________________________________\n",
      "Layer (type)                 Output Shape              Param #   \n",
      "=================================================================\n",
      "dense_1 (Dense)              (None, 200)               5000      \n",
      "_________________________________________________________________\n",
      "dense_2 (Dense)              (None, 100)               20100     \n",
      "_________________________________________________________________\n",
      "dense_3 (Dense)              (None, 32)                3232      \n",
      "_________________________________________________________________\n",
      "dense_4 (Dense)              (None, 1)                 33        \n",
      "=================================================================\n",
      "Total params: 28,365\n",
      "Trainable params: 28,365\n",
      "Non-trainable params: 0\n",
      "_________________________________________________________________\n"
     ]
    }
   ],
   "source": [
    "np.random.seed(1)\n",
    "\n",
    "model = Sequential()\n",
    "\n",
    "model.add(Dense(200, input_dim=24, use_bias=True, activation='relu'))\n",
    "#model.add(Dropout(0.1))\n",
    "model.add(Dense(100, use_bias=True, activation='relu'))\n",
    "#model.add(Dropout(0.1))\n",
    "model.add(Dense(32, use_bias=True, activation='relu'))\n",
    "#model.add(Dropout(0.2))\n",
    "model.add(Dense(1, use_bias=True, activation='sigmoid'))\n",
    "\n",
    "model.summary()"
   ]
  },
  {
   "cell_type": "code",
   "execution_count": 21,
   "metadata": {},
   "outputs": [],
   "source": [
    "# compile the model\n",
    "model.compile(loss='binary_crossentropy', optimizer='adam', metrics=['accuracy'])"
   ]
  },
  {
   "cell_type": "code",
   "execution_count": 22,
   "metadata": {},
   "outputs": [
    {
     "name": "stdout",
     "output_type": "stream",
     "text": [
      "WARNING:tensorflow:From /home/hadi/anaconda3/lib/python3.7/site-packages/tensorflow/python/ops/math_ops.py:3066: to_int32 (from tensorflow.python.ops.math_ops) is deprecated and will be removed in a future version.\n",
      "Instructions for updating:\n",
      "Use tf.cast instead.\n",
      "Train on 2751540 samples, validate on 687885 samples\n",
      "Epoch 1/15\n",
      " - 133s - loss: 0.5487 - acc: 0.7261 - val_loss: 0.5476 - val_acc: 0.7273\n",
      "\n",
      "Epoch 00001: val_loss improved from inf to 0.54758, saving model to BRFSS.weights.best.hdf5\n",
      "Epoch 2/15\n",
      " - 126s - loss: 0.5460 - acc: 0.7281 - val_loss: 0.5456 - val_acc: 0.7284\n",
      "\n",
      "Epoch 00002: val_loss improved from 0.54758 to 0.54563, saving model to BRFSS.weights.best.hdf5\n",
      "Epoch 3/15\n",
      " - 128s - loss: 0.5454 - acc: 0.7286 - val_loss: 0.5454 - val_acc: 0.7285\n",
      "\n",
      "Epoch 00003: val_loss improved from 0.54563 to 0.54535, saving model to BRFSS.weights.best.hdf5\n",
      "Epoch 4/15\n",
      " - 117s - loss: 0.5451 - acc: 0.7287 - val_loss: 0.5459 - val_acc: 0.7286\n",
      "\n",
      "Epoch 00004: val_loss did not improve from 0.54535\n",
      "Epoch 5/15\n",
      " - 109s - loss: 0.5448 - acc: 0.7290 - val_loss: 0.5452 - val_acc: 0.7287\n",
      "\n",
      "Epoch 00005: val_loss improved from 0.54535 to 0.54525, saving model to BRFSS.weights.best.hdf5\n",
      "Epoch 6/15\n",
      " - 111s - loss: 0.5446 - acc: 0.7290 - val_loss: 0.5447 - val_acc: 0.7292\n",
      "\n",
      "Epoch 00006: val_loss improved from 0.54525 to 0.54467, saving model to BRFSS.weights.best.hdf5\n",
      "Epoch 7/15\n",
      " - 111s - loss: 0.5445 - acc: 0.7291 - val_loss: 0.5455 - val_acc: 0.7294\n",
      "\n",
      "Epoch 00007: val_loss did not improve from 0.54467\n",
      "Epoch 8/15\n",
      " - 111s - loss: 0.5443 - acc: 0.7292 - val_loss: 0.5448 - val_acc: 0.7290\n",
      "\n",
      "Epoch 00008: val_loss did not improve from 0.54467\n",
      "Epoch 9/15\n",
      " - 111s - loss: 0.5442 - acc: 0.7294 - val_loss: 0.5454 - val_acc: 0.7292\n",
      "\n",
      "Epoch 00009: val_loss did not improve from 0.54467\n",
      "Epoch 10/15\n",
      " - 118s - loss: 0.5441 - acc: 0.7294 - val_loss: 0.5445 - val_acc: 0.7292\n",
      "\n",
      "Epoch 00010: val_loss improved from 0.54467 to 0.54453, saving model to BRFSS.weights.best.hdf5\n",
      "Epoch 11/15\n",
      " - 119s - loss: 0.5441 - acc: 0.7293 - val_loss: 0.5448 - val_acc: 0.7289\n",
      "\n",
      "Epoch 00011: val_loss did not improve from 0.54453\n",
      "Epoch 12/15\n",
      " - 120s - loss: 0.5441 - acc: 0.7294 - val_loss: 0.5450 - val_acc: 0.7289\n",
      "\n",
      "Epoch 00012: val_loss did not improve from 0.54453\n",
      "Epoch 13/15\n",
      " - 123s - loss: 0.5440 - acc: 0.7294 - val_loss: 0.5453 - val_acc: 0.7289\n",
      "\n",
      "Epoch 00013: val_loss did not improve from 0.54453\n",
      "Epoch 14/15\n",
      " - 121s - loss: 0.5440 - acc: 0.7295 - val_loss: 0.5451 - val_acc: 0.7290\n",
      "\n",
      "Epoch 00014: val_loss did not improve from 0.54453\n",
      "Epoch 15/15\n",
      " - 121s - loss: 0.5440 - acc: 0.7295 - val_loss: 0.5449 - val_acc: 0.7289\n",
      "\n",
      "Epoch 00015: val_loss did not improve from 0.54453\n"
     ]
    },
    {
     "data": {
      "text/plain": [
       "<keras.callbacks.History at 0x7f18367f7e10>"
      ]
     },
     "execution_count": 22,
     "metadata": {},
     "output_type": "execute_result"
    }
   ],
   "source": [
    "# train the model\n",
    "checkpointer = ModelCheckpoint(filepath='BRFSS.weights.best.hdf5', verbose=1, save_best_only=True)\n",
    "model.fit(x_train_mlp, y_train_mlp, epochs=15, validation_data=(x_valid_mlp, y_valid_mlp), \n",
    "          callbacks=[checkpointer], verbose=2, shuffle=True)"
   ]
  },
  {
   "cell_type": "code",
   "execution_count": 23,
   "metadata": {},
   "outputs": [],
   "source": [
    "# load the weights that yielded the best validation accuracy\n",
    "model.load_weights('BRFSS.weights.best.hdf5')"
   ]
  },
  {
   "cell_type": "code",
   "execution_count": 24,
   "metadata": {},
   "outputs": [
    {
     "name": "stdout",
     "output_type": "stream",
     "text": [
      "Train accuracy: 0.7297871010415985\n"
     ]
    }
   ],
   "source": [
    "# evaluate and print train accuracy\n",
    "score = model.evaluate(x_train_pca, y_train, verbose=0)\n",
    "print('Train accuracy:', score[1])"
   ]
  },
  {
   "cell_type": "code",
   "execution_count": 25,
   "metadata": {},
   "outputs": [
    {
     "name": "stdout",
     "output_type": "stream",
     "text": [
      "Test accuracy: 0.7268274123751329\n"
     ]
    }
   ],
   "source": [
    "# evaluate and print test accuracy\n",
    "score = model.evaluate(x_test_pca, y_test, verbose=0)\n",
    "print('Test accuracy:', score[1])"
   ]
  },
  {
   "cell_type": "code",
   "execution_count": 26,
   "metadata": {},
   "outputs": [],
   "source": [
    "preds = model.predict_classes(x_test_pca, verbose=0)"
   ]
  },
  {
   "cell_type": "code",
   "execution_count": 27,
   "metadata": {},
   "outputs": [],
   "source": [
    "cm = confusion_matrix(y_test, preds)"
   ]
  },
  {
   "cell_type": "code",
   "execution_count": 28,
   "metadata": {},
   "outputs": [
    {
     "data": {
      "image/png": "[encoded data removed]",
      "text/plain": [
       "<Figure size 432x288 with 2 Axes>"
      ]
     },
     "metadata": {
      "needs_background": "light"
     },
     "output_type": "display_data"
    }
   ],
   "source": [
    "ax = sns.heatmap(cm, annot=True, annot_kws={\"size\": 16}, fmt='.0f', cmap=\"Blues\", linewidth=2, \n",
    "                 square=True, vmin=10000, vmax=200000, cbar=True)\n",
    "plt.yticks(rotation=0)\n",
    "ax.xaxis.tick_top()"
   ]
  },
  {
   "cell_type": "code",
   "execution_count": 29,
   "metadata": {},
   "outputs": [],
   "source": [
    "from sklearn.metrics import roc_curve, auc"
   ]
  },
  {
   "cell_type": "code",
   "execution_count": 30,
   "metadata": {},
   "outputs": [
    {
     "data": {
      "image/png": "[encoded data removed]",
      "text/plain": [
       "<Figure size 360x360 with 1 Axes>"
      ]
     },
     "metadata": {
      "needs_background": "light"
     },
     "output_type": "display_data"
    }
   ],
   "source": [
    "preds_train = model.predict_proba(x_train_pca)\n",
    "fpr_train, tpr_train, threshold_train = roc_curve(y_train, preds_train)\n",
    "roc_auc_train = auc(fpr_train, tpr_train)\n",
    "\n",
    "preds_test = model.predict_proba(x_test_pca)\n",
    "fpr_test, tpr_test, threshold_test = roc_curve(y_test, preds_test)\n",
    "roc_auc_test = auc(fpr_test, tpr_test)\n",
    "\n",
    "plt.figure(figsize=(5, 5))\n",
    "#plt.title('ROC Curve')\n",
    "plt.plot(fpr_train, tpr_train, label = 'Train AUC = %0.2f' % roc_auc_train)\n",
    "plt.plot(fpr_test, tpr_test, label = 'Test AUC = %0.2f' % roc_auc_test)\n",
    "plt.legend(loc = 'lower right')\n",
    "plt.plot([0, 1], [0, 1],'r--')\n",
    "plt.xlim([0, 1])\n",
    "plt.ylim([0, 1])\n",
    "plt.ylabel('True Positive Rate')\n",
    "plt.xlabel('False Positive Rate')\n",
    "\n",
    "plt.savefig('ROC.pdf', bbox_inches='tight')"
   ]
  },
  {
   "cell_type": "code",
   "execution_count": null,
   "metadata": {},
   "outputs": [],
   "source": []
  }
 ],
 "metadata": {
  "kernelspec": {
   "display_name": "Python 3",
   "language": "python",
   "name": "python3"
  },
  "language_info": {
   "codemirror_mode": {
    "name": "ipython",
    "version": 3
   },
   "file_extension": ".py",
   "mimetype": "text/x-python",
   "name": "python",
   "nbconvert_exporter": "python",
   "pygments_lexer": "ipython3",
   "version": "3.7.3"
  }
 },
 "nbformat": 4,
 "nbformat_minor": 2
}
